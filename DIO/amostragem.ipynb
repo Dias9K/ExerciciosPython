{
 "cells": [
  {
   "cell_type": "code",
   "execution_count": null,
   "metadata": {},
   "outputs": [],
   "source": [
    "import numpy as np # manipulate data\n",
    "import matplotlib.pyplot as plt # plot graphs\n",
    "\n",
    "\n",
    "fs=32 # freq. amostragem, Hz\n",
    "fa=1  # freq. sinal analógico, Hz\n",
    "T=20  # duracao em segundos\n",
    "t=np.arange(T*fs+1)/fs # tempo discreto\n",
    "ta=np.arange(T*fs*100)/(fs*100) # tempo\n",
    "pi = np.pi\n",
    "sd=np.cos(2*pi*(fs-fa)*t)  # sinal discreto\n",
    "sa=np.cos(2*pi*fa*ta)      # sinal analógico\n",
    "plt.figure(figsize=(12,15))\n",
    "plt.subplot(311)\n",
    "plt.plot(ta,sa,color='k'), plt.grid()\n",
    "plt.title(\"Sinal analógico, senoide de %g Hz\" % fa)\n",
    "plt.xlabel(\"t, s\")\n",
    "plt.subplot(312)\n",
    "plt.stem(t,sd)\n",
    "plt.plot(ta,sa,color='k')\n",
    "plt.plot(t,sd, ':')\n",
    "plt.grid()\n",
    "plt.xlabel(\"t, s\")\n",
    "plt.title(\"Senoide de %g Hz amostrada a %g Hz\" % (fa, fs))\n",
    "plt.subplot(313)\n",
    "plt.stem(np.arange(T*fs+1),sd)\n",
    "plt.title(\"Sinal discreto\")\n",
    "plt.xlabel(\"n\")\n",
    "plt.show()"
   ]
  }
 ],
 "metadata": {
  "language_info": {
   "name": "python"
  }
 },
 "nbformat": 4,
 "nbformat_minor": 2
}
